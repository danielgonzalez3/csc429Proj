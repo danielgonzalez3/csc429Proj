{
  "cells": [
    {
      "cell_type": "markdown",
      "metadata": {
        "id": "xugPoY8IMybR",
        "colab_type": "text"
      },
      "source": [
        "# ReadMe\n",
        "Author: Matthew P. Burruss, March 2020\n",
        "\n",
        "## Data Sets\n",
        "\n",
        "### Classification\n",
        "For information on the classification data set (description, how to load it, model weights, etc.), please see this [google drive folder](https://drive.google.com/drive/folders/1fEWVY_rb2J0tkNtQ-605dRCMfXRpRwMF?usp=sharing). \n",
        "\n",
        "### Regression (Note: This notebook focuses soley on the classification task)\n",
        "For information on the regression data set, please see this [google drive folder](https://drive.google.com/drive/folders/1Ryvlt5HWsLiEVZkYpX_aTivrlDuCcWIt?usp=sharing). \n",
        "\n",
        "## Model Weights (Classification)\n",
        "Pre-trained RBF and regular softmax Keras weights can be found in this [google drive folder](https://drive.google.com/drive/folders/1A1Nw6qhxb4DLISh9ei7EHRE4jdKOe1VK?usp=sharing)..\n",
        "\n",
        "## Physical Attack\n",
        "The code to perform the physical attack can be found in the utility function section below. The rest of the code loads the model and performs the attack as well as a few simple experiments.\n",
        "\n",
        "## Getting Started (Classification)\n",
        "The only thing that needs changing is in the RBF section under the \"CHANGE ME\" subsection. The correct path to the data set and the location of the model weights will need to be updated.\n",
        "\n",
        "1. Navigate to this [google drive folder](https://drive.google.com/drive/folders/1fEWVY_rb2J0tkNtQ-605dRCMfXRpRwMF?usp=sharing) and create shortcuts in your own google drive for the data set (`deepnncar-classification-dataset.zip`) and any pre-trained weights you want to use.\n",
        "\n",
        "2. In the \"CHANGE ME\" subsecton of the \"RBF DAVEII: Classification with Rejection\" section below you need to change the paths to point to your data set wherever that might be located in the google drive system.\n",
        "\n",
        "5. Optional: Download the pre-trained weights for the DAVEII softmax classifier where the model can be loaded by invoking\n",
        "```\n",
        "softmax_model = DaveIIModel()\n",
        "softmax_model.load(weights=os.path.join(MODEL_WEIGHT_LOC,'softmax_model.h5'))\n",
        "```\n",
        "where MODEL_WEIGHT_LOC is the path to the folder containing the weights in your google drive!\n",
        "\n"
      ]
    },
    {
      "cell_type": "markdown",
      "metadata": {
        "id": "vG1V9KimM2Ly",
        "colab_type": "text"
      },
      "source": [
        "# Connect to Google Drive"
      ]
    },
    {
      "cell_type": "code",
      "metadata": {
        "id": "6lS5AMOxmnYI",
        "colab_type": "code",
        "colab": {}
      },
      "source": [
        "from google.colab import drive\n",
        "drive.mount('/content/drive')\n",
        "! pip3 install tensorflow==1.15.0"
      ],
      "execution_count": 0,
      "outputs": []
    },
    {
      "cell_type": "markdown",
      "metadata": {
        "id": "O8w4NpH6Dnai",
        "colab_type": "text"
      },
      "source": [
        "# RBF DAVEII: Classification with Rejection\n",
        "The following code loads the partitioned DeepNNCar data set and performs the physical attack and re-creates a few of the experiments done in Matthew Burruss's Master's Thesis"
      ]
    },
    {
      "cell_type": "markdown",
      "metadata": {
        "id": "4KfGX3X6EiVe",
        "colab_type": "text"
      },
      "source": [
        "## CHANGE ME"
      ]
    },
    {
      "cell_type": "code",
      "metadata": {
        "id": "mxMJnxW5EfPM",
        "colab_type": "code",
        "colab": {}
      },
      "source": [
        "# Also update the location of the data set below if necessary\n",
        "MODEL_WEIGHT_LOC ='/content/drive/My Drive/Colab Notebooks/DaveIIWeights' # Path to your weight shortcuts (should be a folder containing the rbf_model.h5 and softmax_model.h5 files)\n",
        "PATH_TO_REGRESSION_CSV = '/content/drive/My Drive/DeepNNCar Dataset/deepnncar_regression.csv' # Path to the regression data set csv file shortcut if your interested in loading that\n",
        "%env PATH_TO_CLASSIFICATION_DATASET = /content/drive/My Drive/Shortcuts/deepnncar-classification-dataset.zip # path to the classification zip data set file"
      ],
      "execution_count": 0,
      "outputs": []
    },
    {
      "cell_type": "code",
      "metadata": {
        "id": "gFp7gHuenfgP",
        "colab_type": "code",
        "outputId": "b8508a30-e5b6-4ad0-bffd-7d45b6344979",
        "colab": {
          "base_uri": "https://localhost:8080/"
        }
      },
      "source": [
        "import os\n",
        "assert os.path.isfile(os.environ['PATH_TO_CLASSIFICATION_DATASET']),\\\n",
        "  print(\"File not found error\")\n",
        "%cd /content/\n",
        "! cp -r \"${PATH_TO_CLASSIFICATION_DATASET}\" ./\n",
        "! unzip deepnncar-classification-dataset.zip"
      ],
      "execution_count": 0,
      "outputs": [
        {
          "output_type": "stream",
          "text": [
            "/content\n",
            "'/content/drive/My Drive/Colab Notebooks/deepnncar_dataset_partitioned.zip' -> './deepnncar_dataset_partitioned.zip'\n",
            "Archive:  deepnncar_dataset_partitioned.zip\n",
            "replace daveii_dataset_partitioned/train/0/54_45_585918.jpg? [y]es, [n]o, [A]ll, [N]one, [r]ename: "
          ],
          "name": "stdout"
        },
        {
          "output_type": "error",
          "ename": "KeyboardInterrupt",
          "evalue": "ignored",
          "traceback": [
            "\u001b[0;31m---------------------------------------------------------------------------\u001b[0m",
            "\u001b[0;31mKeyboardInterrupt\u001b[0m                         Traceback (most recent call last)",
            "\u001b[0;32m<ipython-input-35-955f2daedc05>\u001b[0m in \u001b[0;36m<module>\u001b[0;34m()\u001b[0m\n\u001b[1;32m      2\u001b[0m \u001b[0mget_ipython\u001b[0m\u001b[0;34m(\u001b[0m\u001b[0;34m)\u001b[0m\u001b[0;34m.\u001b[0m\u001b[0msystem\u001b[0m\u001b[0;34m(\u001b[0m\u001b[0;34m\" rm -rf './deepnncar_dataset_partitioned'\"\u001b[0m\u001b[0;34m)\u001b[0m\u001b[0;34m\u001b[0m\u001b[0;34m\u001b[0m\u001b[0m\n\u001b[1;32m      3\u001b[0m \u001b[0mget_ipython\u001b[0m\u001b[0;34m(\u001b[0m\u001b[0;34m)\u001b[0m\u001b[0;34m.\u001b[0m\u001b[0msystem\u001b[0m\u001b[0;34m(\u001b[0m\u001b[0;34m\" cp -r -v '/content/drive/My Drive/Colab Notebooks/deepnncar_dataset_partitioned.zip' ./\"\u001b[0m\u001b[0;34m)\u001b[0m\u001b[0;34m\u001b[0m\u001b[0;34m\u001b[0m\u001b[0m\n\u001b[0;32m----> 4\u001b[0;31m \u001b[0mget_ipython\u001b[0m\u001b[0;34m(\u001b[0m\u001b[0;34m)\u001b[0m\u001b[0;34m.\u001b[0m\u001b[0msystem\u001b[0m\u001b[0;34m(\u001b[0m\u001b[0;34m' unzip deepnncar_dataset_partitioned.zip'\u001b[0m\u001b[0;34m)\u001b[0m\u001b[0;34m\u001b[0m\u001b[0;34m\u001b[0m\u001b[0m\n\u001b[0m",
            "\u001b[0;32m/usr/local/lib/python3.6/dist-packages/google/colab/_shell.py\u001b[0m in \u001b[0;36msystem\u001b[0;34m(self, *args, **kwargs)\u001b[0m\n\u001b[1;32m     94\u001b[0m       \u001b[0mkwargs\u001b[0m\u001b[0;34m.\u001b[0m\u001b[0mupdate\u001b[0m\u001b[0;34m(\u001b[0m\u001b[0;34m{\u001b[0m\u001b[0;34m'also_return_output'\u001b[0m\u001b[0;34m:\u001b[0m \u001b[0;32mTrue\u001b[0m\u001b[0;34m}\u001b[0m\u001b[0;34m)\u001b[0m\u001b[0;34m\u001b[0m\u001b[0;34m\u001b[0m\u001b[0m\n\u001b[1;32m     95\u001b[0m \u001b[0;34m\u001b[0m\u001b[0m\n\u001b[0;32m---> 96\u001b[0;31m     \u001b[0moutput\u001b[0m \u001b[0;34m=\u001b[0m \u001b[0m_system_commands\u001b[0m\u001b[0;34m.\u001b[0m\u001b[0m_system_compat\u001b[0m\u001b[0;34m(\u001b[0m\u001b[0mself\u001b[0m\u001b[0;34m,\u001b[0m \u001b[0;34m*\u001b[0m\u001b[0margs\u001b[0m\u001b[0;34m,\u001b[0m \u001b[0;34m**\u001b[0m\u001b[0mkwargs\u001b[0m\u001b[0;34m)\u001b[0m  \u001b[0;31m# pylint:disable=protected-access\u001b[0m\u001b[0;34m\u001b[0m\u001b[0;34m\u001b[0m\u001b[0m\n\u001b[0m\u001b[1;32m     97\u001b[0m \u001b[0;34m\u001b[0m\u001b[0m\n\u001b[1;32m     98\u001b[0m     \u001b[0;32mif\u001b[0m \u001b[0mpip_warn\u001b[0m\u001b[0;34m:\u001b[0m\u001b[0;34m\u001b[0m\u001b[0;34m\u001b[0m\u001b[0m\n",
            "\u001b[0;32m/usr/local/lib/python3.6/dist-packages/google/colab/_system_commands.py\u001b[0m in \u001b[0;36m_system_compat\u001b[0;34m(shell, cmd, also_return_output)\u001b[0m\n\u001b[1;32m    436\u001b[0m   \u001b[0;31m# stack.\u001b[0m\u001b[0;34m\u001b[0m\u001b[0;34m\u001b[0m\u001b[0;34m\u001b[0m\u001b[0m\n\u001b[1;32m    437\u001b[0m   result = _run_command(\n\u001b[0;32m--> 438\u001b[0;31m       shell.var_expand(cmd, depth=2), clear_streamed_output=False)\n\u001b[0m\u001b[1;32m    439\u001b[0m   \u001b[0mshell\u001b[0m\u001b[0;34m.\u001b[0m\u001b[0muser_ns\u001b[0m\u001b[0;34m[\u001b[0m\u001b[0;34m'_exit_code'\u001b[0m\u001b[0;34m]\u001b[0m \u001b[0;34m=\u001b[0m \u001b[0mresult\u001b[0m\u001b[0;34m.\u001b[0m\u001b[0mreturncode\u001b[0m\u001b[0;34m\u001b[0m\u001b[0;34m\u001b[0m\u001b[0m\n\u001b[1;32m    440\u001b[0m   \u001b[0;32mif\u001b[0m \u001b[0;34m-\u001b[0m\u001b[0mresult\u001b[0m\u001b[0;34m.\u001b[0m\u001b[0mreturncode\u001b[0m \u001b[0;32min\u001b[0m \u001b[0m_INTERRUPTED_SIGNALS\u001b[0m\u001b[0;34m:\u001b[0m\u001b[0;34m\u001b[0m\u001b[0;34m\u001b[0m\u001b[0m\n",
            "\u001b[0;32m/usr/local/lib/python3.6/dist-packages/google/colab/_system_commands.py\u001b[0m in \u001b[0;36m_run_command\u001b[0;34m(cmd, clear_streamed_output)\u001b[0m\n\u001b[1;32m    193\u001b[0m       \u001b[0mos\u001b[0m\u001b[0;34m.\u001b[0m\u001b[0mclose\u001b[0m\u001b[0;34m(\u001b[0m\u001b[0mchild_pty\u001b[0m\u001b[0;34m)\u001b[0m\u001b[0;34m\u001b[0m\u001b[0;34m\u001b[0m\u001b[0m\n\u001b[1;32m    194\u001b[0m \u001b[0;34m\u001b[0m\u001b[0m\n\u001b[0;32m--> 195\u001b[0;31m       \u001b[0;32mreturn\u001b[0m \u001b[0m_monitor_process\u001b[0m\u001b[0;34m(\u001b[0m\u001b[0mparent_pty\u001b[0m\u001b[0;34m,\u001b[0m \u001b[0mepoll\u001b[0m\u001b[0;34m,\u001b[0m \u001b[0mp\u001b[0m\u001b[0;34m,\u001b[0m \u001b[0mcmd\u001b[0m\u001b[0;34m,\u001b[0m \u001b[0mupdate_stdin_widget\u001b[0m\u001b[0;34m)\u001b[0m\u001b[0;34m\u001b[0m\u001b[0;34m\u001b[0m\u001b[0m\n\u001b[0m\u001b[1;32m    196\u001b[0m   \u001b[0;32mfinally\u001b[0m\u001b[0;34m:\u001b[0m\u001b[0;34m\u001b[0m\u001b[0;34m\u001b[0m\u001b[0m\n\u001b[1;32m    197\u001b[0m     \u001b[0mepoll\u001b[0m\u001b[0;34m.\u001b[0m\u001b[0mclose\u001b[0m\u001b[0;34m(\u001b[0m\u001b[0;34m)\u001b[0m\u001b[0;34m\u001b[0m\u001b[0;34m\u001b[0m\u001b[0m\n",
            "\u001b[0;32m/usr/lib/python3.6/contextlib.py\u001b[0m in \u001b[0;36m__exit__\u001b[0;34m(self, type, value, traceback)\u001b[0m\n\u001b[1;32m     86\u001b[0m         \u001b[0;32mif\u001b[0m \u001b[0mtype\u001b[0m \u001b[0;32mis\u001b[0m \u001b[0;32mNone\u001b[0m\u001b[0;34m:\u001b[0m\u001b[0;34m\u001b[0m\u001b[0;34m\u001b[0m\u001b[0m\n\u001b[1;32m     87\u001b[0m             \u001b[0;32mtry\u001b[0m\u001b[0;34m:\u001b[0m\u001b[0;34m\u001b[0m\u001b[0;34m\u001b[0m\u001b[0m\n\u001b[0;32m---> 88\u001b[0;31m                 \u001b[0mnext\u001b[0m\u001b[0;34m(\u001b[0m\u001b[0mself\u001b[0m\u001b[0;34m.\u001b[0m\u001b[0mgen\u001b[0m\u001b[0;34m)\u001b[0m\u001b[0;34m\u001b[0m\u001b[0;34m\u001b[0m\u001b[0m\n\u001b[0m\u001b[1;32m     89\u001b[0m             \u001b[0;32mexcept\u001b[0m \u001b[0mStopIteration\u001b[0m\u001b[0;34m:\u001b[0m\u001b[0;34m\u001b[0m\u001b[0;34m\u001b[0m\u001b[0m\n\u001b[1;32m     90\u001b[0m                 \u001b[0;32mreturn\u001b[0m \u001b[0;32mFalse\u001b[0m\u001b[0;34m\u001b[0m\u001b[0;34m\u001b[0m\u001b[0m\n",
            "\u001b[0;32m/usr/local/lib/python3.6/dist-packages/google/colab/_system_commands.py\u001b[0m in \u001b[0;36m_display_stdin_widget\u001b[0;34m(delay_millis)\u001b[0m\n\u001b[1;32m    353\u001b[0m \u001b[0;34m\u001b[0m\u001b[0m\n\u001b[1;32m    354\u001b[0m   \u001b[0mhide_args\u001b[0m \u001b[0;34m=\u001b[0m \u001b[0;34m[\u001b[0m\u001b[0;34m'cell_remove_stdin'\u001b[0m\u001b[0;34m,\u001b[0m \u001b[0;34m{\u001b[0m\u001b[0;34m}\u001b[0m\u001b[0;34m]\u001b[0m\u001b[0;34m\u001b[0m\u001b[0;34m\u001b[0m\u001b[0m\n\u001b[0;32m--> 355\u001b[0;31m   \u001b[0m_message\u001b[0m\u001b[0;34m.\u001b[0m\u001b[0mblocking_request\u001b[0m\u001b[0;34m(\u001b[0m\u001b[0;34m*\u001b[0m\u001b[0mhide_args\u001b[0m\u001b[0;34m,\u001b[0m \u001b[0mparent\u001b[0m\u001b[0;34m=\u001b[0m\u001b[0mshell\u001b[0m\u001b[0;34m.\u001b[0m\u001b[0mparent_header\u001b[0m\u001b[0;34m)\u001b[0m\u001b[0;34m\u001b[0m\u001b[0;34m\u001b[0m\u001b[0m\n\u001b[0m\u001b[1;32m    356\u001b[0m \u001b[0;34m\u001b[0m\u001b[0m\n\u001b[1;32m    357\u001b[0m \u001b[0;34m\u001b[0m\u001b[0m\n",
            "\u001b[0;32m/usr/local/lib/python3.6/dist-packages/google/colab/_message.py\u001b[0m in \u001b[0;36mblocking_request\u001b[0;34m(request_type, request, timeout_sec, parent)\u001b[0m\n\u001b[1;32m    169\u001b[0m   \u001b[0;31m# unique.\u001b[0m\u001b[0;34m\u001b[0m\u001b[0;34m\u001b[0m\u001b[0;34m\u001b[0m\u001b[0m\n\u001b[1;32m    170\u001b[0m   \u001b[0mrequest_id\u001b[0m \u001b[0;34m=\u001b[0m \u001b[0msend_request\u001b[0m\u001b[0;34m(\u001b[0m\u001b[0mrequest_type\u001b[0m\u001b[0;34m,\u001b[0m \u001b[0mrequest\u001b[0m\u001b[0;34m,\u001b[0m \u001b[0mparent\u001b[0m\u001b[0;34m=\u001b[0m\u001b[0mparent\u001b[0m\u001b[0;34m)\u001b[0m\u001b[0;34m\u001b[0m\u001b[0;34m\u001b[0m\u001b[0m\n\u001b[0;32m--> 171\u001b[0;31m   \u001b[0;32mreturn\u001b[0m \u001b[0mread_reply_from_input\u001b[0m\u001b[0;34m(\u001b[0m\u001b[0mrequest_id\u001b[0m\u001b[0;34m,\u001b[0m \u001b[0mtimeout_sec\u001b[0m\u001b[0;34m)\u001b[0m\u001b[0;34m\u001b[0m\u001b[0;34m\u001b[0m\u001b[0m\n\u001b[0m",
            "\u001b[0;32m/usr/local/lib/python3.6/dist-packages/google/colab/_message.py\u001b[0m in \u001b[0;36mread_reply_from_input\u001b[0;34m(message_id, timeout_sec)\u001b[0m\n\u001b[1;32m     99\u001b[0m     \u001b[0mreply\u001b[0m \u001b[0;34m=\u001b[0m \u001b[0m_read_next_input_message\u001b[0m\u001b[0;34m(\u001b[0m\u001b[0;34m)\u001b[0m\u001b[0;34m\u001b[0m\u001b[0;34m\u001b[0m\u001b[0m\n\u001b[1;32m    100\u001b[0m     \u001b[0;32mif\u001b[0m \u001b[0mreply\u001b[0m \u001b[0;34m==\u001b[0m \u001b[0m_NOT_READY\u001b[0m \u001b[0;32mor\u001b[0m \u001b[0;32mnot\u001b[0m \u001b[0misinstance\u001b[0m\u001b[0;34m(\u001b[0m\u001b[0mreply\u001b[0m\u001b[0;34m,\u001b[0m \u001b[0mdict\u001b[0m\u001b[0;34m)\u001b[0m\u001b[0;34m:\u001b[0m\u001b[0;34m\u001b[0m\u001b[0;34m\u001b[0m\u001b[0m\n\u001b[0;32m--> 101\u001b[0;31m       \u001b[0mtime\u001b[0m\u001b[0;34m.\u001b[0m\u001b[0msleep\u001b[0m\u001b[0;34m(\u001b[0m\u001b[0;36m0.025\u001b[0m\u001b[0;34m)\u001b[0m\u001b[0;34m\u001b[0m\u001b[0;34m\u001b[0m\u001b[0m\n\u001b[0m\u001b[1;32m    102\u001b[0m       \u001b[0;32mcontinue\u001b[0m\u001b[0;34m\u001b[0m\u001b[0;34m\u001b[0m\u001b[0m\n\u001b[1;32m    103\u001b[0m     if (reply.get('type') == 'colab_reply' and\n",
            "\u001b[0;31mKeyboardInterrupt\u001b[0m: "
          ]
        }
      ]
    },
    {
      "cell_type": "markdown",
      "metadata": {
        "id": "F-BNQcKu_p-a",
        "colab_type": "text"
      },
      "source": [
        "## Imports"
      ]
    },
    {
      "cell_type": "code",
      "metadata": {
        "id": "LAxj4fRnn8AA",
        "colab_type": "code",
        "colab": {}
      },
      "source": [
        "from __future__ import print_function\n",
        "import keras\n",
        "from keras.preprocessing.image import ImageDataGenerator\n",
        "import os\n",
        "from keras.models import load_model,Model\n",
        "import numpy as np\n",
        "from keras import losses\n",
        "import cv2\n",
        "from sklearn.preprocessing import OneHotEncoder\n",
        "import keras.backend as K\n",
        "import tensorflow as tf\n",
        "from matplotlib import pyplot as plt\n",
        "from keras.layers import Dense, Dropout, Activation, Flatten, BatchNormalization,Lambda, Input, ELU,Reshape\n",
        "from keras.layers import Conv2D, MaxPooling2D,Input,AveragePooling2D,InputLayer,Convolution2D\n",
        "from keras.models import Sequential\n",
        "from keras.callbacks import ModelCheckpoint, LearningRateScheduler, TensorBoard, EarlyStopping, History\n",
        "import math\n",
        "from sklearn.metrics import mean_squared_error\n",
        "from keras.engine.topology import Layer\n",
        "from keras.initializers import RandomUniform, Initializer, Constant"
      ],
      "execution_count": 0,
      "outputs": []
    },
    {
      "cell_type": "markdown",
      "metadata": {
        "id": "OyRuDGN8Ai_G",
        "colab_type": "text"
      },
      "source": [
        "## Utility Functions"
      ]
    },
    {
      "cell_type": "code",
      "metadata": {
        "id": "iwZW6U23AiJa",
        "colab_type": "code",
        "colab": {}
      },
      "source": [
        "def loadData(baseDir='/content/deepnncar-classification-dataset',dataType='train'):\n",
        "    assert dataType in ['train','test','val'],\\\n",
        "        print('Not a valid type, must be train, test, or val')\n",
        "    train_data_dir = os.path.join(baseDir,dataType)\n",
        "    if (dataType=='test'):\n",
        "        datagen = ImageDataGenerator(\n",
        "            rescale = 1./255,\n",
        "        )\n",
        "        data_generator = datagen.flow_from_directory(\n",
        "            train_data_dir,\n",
        "            target_size = (66,200),\n",
        "            batch_size = 16,\n",
        "            class_mode = \"categorical\",\n",
        "            shuffle=True)\n",
        "        data_generator.batch_size = data_generator.samples\n",
        "    else:\n",
        "        datagen = ImageDataGenerator(\n",
        "            rescale = 1./255,\n",
        "            fill_mode = \"nearest\",\n",
        "            zoom_range = 0.0,\n",
        "            width_shift_range = 0.3,\n",
        "            height_shift_range=0.3,\n",
        "            rotation_range=0.0)\n",
        "        data_generator = datagen.flow_from_directory(\n",
        "            train_data_dir,\n",
        "            target_size = (66,200),\n",
        "            batch_size = 16,\n",
        "            class_mode = \"categorical\",\n",
        "            shuffle=True)\n",
        "    return data_generator\n",
        "\n",
        "def PhysicalAttackLanes(alpha=1):\n",
        "    baseDir = '/content/deepnncar-classification-dataset/train/'\n",
        "    numAttacksPerClass = 20\n",
        "    classes = ['0','1','2','7','8','9']\n",
        "    xadv = np.zeros((numAttacksPerClass*len(classes),66,200,3))\n",
        "    x_clean = np.zeros((numAttacksPerClass*len(classes),66,200,3))\n",
        "    y_label = np.zeros((numAttacksPerClass*len(classes)))\n",
        "    y_adv = np.zeros((numAttacksPerClass*len(classes)))\n",
        "    j = 0\n",
        "    print('Creating physical attacks against e2e dave ii model')\n",
        "    for c in classes:\n",
        "        path = os.path.join(baseDir,c)\n",
        "        images = os.listdir(path)\n",
        "        image_name = np.random.choice(images,numAttacksPerClass,replace=False)\n",
        "        cur_class = int(c)\n",
        "        for i in range(image_name.shape[0]):\n",
        "            img_base = cv2.imread(os.path.join(path,image_name[i])).astype(np.float32)\n",
        "            badImage = np.copy(img_base)/255.\n",
        "            if (cur_class < 1):\n",
        "                pts = np.array([[0,36],[0,46],[178,34],[183,28]], np.int32)\n",
        "            elif (cur_class < 4):\n",
        "                pts = np.array([[0,36],[0,46],[178,34],[183,28]], np.int32)\n",
        "            elif (cur_class < 9):\n",
        "                pts = np.array([[10,28],[10,34],[200,46],[200,36]], np.int32)\n",
        "            else:\n",
        "                pts = np.array([[10,28],[10,34],[200,46],[200,36]], np.int32)\n",
        "            cv2.fillPoly(badImage,[pts],(0,0,0))\n",
        "            badImage = alpha*badImage + (1-alpha)*img_base/255.\n",
        "            xadv[j] = badImage\n",
        "            if (cur_class < 1):\n",
        "                y_adv[j] = 9\n",
        "            elif (cur_class < 4):\n",
        "                y_adv[j] = 6\n",
        "            elif (cur_class < 9):\n",
        "                y_adv[j] = 3\n",
        "            else:\n",
        "                y_adv[j] = 0\n",
        "            y_label[j] = cur_class\n",
        "            x_clean[j] = img_base/255.\n",
        "            j = j + 1\n",
        "    y_label = keras.utils.to_categorical(y_label, 10)\n",
        "    y_adv = keras.utils.to_categorical(y_adv, 10)\n",
        "    return xadv,y_adv,y_label,x_clean"
      ],
      "execution_count": 0,
      "outputs": []
    },
    {
      "cell_type": "markdown",
      "metadata": {
        "id": "KtqWccslA0dP",
        "colab_type": "text"
      },
      "source": [
        "## Define RBF Layer and SoftML Loss"
      ]
    },
    {
      "cell_type": "code",
      "metadata": {
        "id": "Vlw6NOdtA4Vc",
        "colab_type": "code",
        "colab": {}
      },
      "source": [
        "class RBFLayer(Layer):\n",
        "    def __init__(self, units, gamma, temp=None,**kwargs):\n",
        "        super(RBFLayer, self).__init__(**kwargs)\n",
        "        self.units = units\n",
        "        self.gamma = K.cast_to_floatx(gamma)\n",
        "        self.temp = temp\n",
        "    def build(self, input_shape):\n",
        "        self.mu = self.add_weight(name='mu',\n",
        "                                  shape=(int(input_shape[1]), self.units),\n",
        "                                  initializer=keras.initializers.RandomUniform(minval=-1, maxval=1, seed=1234),\n",
        "                                  trainable=True)\n",
        "        super(RBFLayer, self).build(input_shape)\n",
        "\n",
        "    def call(self, inputs):\n",
        "        diff = K.expand_dims(inputs) - self.mu\n",
        "        if (self.temp):\n",
        "            diff = diff / self.temp\n",
        "        l2 = K.sum(K.pow(diff, 2), axis=1)\n",
        "        res = K.exp(0.0)*l2\n",
        "        return res\n",
        "\n",
        "    def compute_output_shape(self, input_shape):\n",
        "        return (input_shape[0], self.units)\n",
        "\n",
        "    def get_config(self):\n",
        "        # have to define get_config to be able to use model_from_json\n",
        "        config = {\n",
        "            'units': self.units,\n",
        "            'gamma': self.gamma\n",
        "        }\n",
        "        base_config = super(RBFLayer, self).get_config()\n",
        "        return dict(list(base_config.items()) + list(config.items()))\n",
        "\n",
        "\n",
        "# this is a helper function\n",
        "def softargmax(x,beta=1e10):\n",
        "    \"\"\"\n",
        "    Perform argmax in a differential manner\n",
        "    :param x: An array with the original inputs. `x` is expected to have spatial dimensions.\n",
        "    :type x: `np.ndarray`\n",
        "    :param beta: A large number to approximate argmax(`x`)\n",
        "    :type y: float\n",
        "    :return: argmax of tensor\n",
        "    :rtype: `tensorflow.python.framework.ops.Tensor`\n",
        "    \"\"\"\n",
        "    x = tf.convert_to_tensor(x)\n",
        "    x_range = tf.range(10)\n",
        "    x_range = tf.dtypes.cast(x_range,tf.float32)\n",
        "    return tf.reduce_sum(tf.nn.softmax(x*beta) * x_range, axis=1)\n",
        "\n",
        "RBF_LAMBDA = 0.5\n",
        "def RBF_Soft_Loss(y_true,y_pred):\n",
        "    lam = RBF_LAMBDA\n",
        "    indices = softargmax(y_true)\n",
        "    indices = tf.dtypes.cast(indices,tf.int32)\n",
        "    y_pred = tf.dtypes.cast(y_pred,tf.float32)\n",
        "    y_true = tf.dtypes.cast(y_true,tf.float32)\n",
        "    row_ind = K.arange(K.shape(y_true)[0])\n",
        "    full_indices = tf.stack([row_ind,indices],axis=1)\n",
        "    d = tf.gather_nd(y_pred,full_indices)\n",
        "    y_pred = K.log(1+ K.exp(lam - y_pred))\n",
        "    S = K.sum(y_pred,axis=1) - K.log(1+K.exp(lam-d))\n",
        "    y = K.sum(d + S)\n",
        "    return y\n",
        "\n",
        "def DistanceMetric(y_true,y_pred):\n",
        "    e  = K.equal(K.argmax(y_true,axis=1),K.argmin(y_pred,axis=1))\n",
        "    s = tf.reduce_sum(tf.cast(e, tf.float32))\n",
        "    n = tf.cast(K.shape(y_true)[0],tf.float32)\n",
        "    return s/n"
      ],
      "execution_count": 0,
      "outputs": []
    },
    {
      "cell_type": "markdown",
      "metadata": {
        "id": "Ptpqj9o7__IY",
        "colab_type": "text"
      },
      "source": [
        "## Define DAVEII Model"
      ]
    },
    {
      "cell_type": "code",
      "metadata": {
        "id": "I9ntU3yPACjJ",
        "colab_type": "code",
        "colab": {}
      },
      "source": [
        "class DaveIIModel():\n",
        "    def __init__(self,anomalyDetector=False):\n",
        "        self.input_size = (66, 200, 3)\n",
        "        self.num_classes = 10\n",
        "        self.isAnomalyDetector = anomalyDetector\n",
        "        model = Sequential()\n",
        "        input1= Input(shape=(66,200,3), name='image')\n",
        "        steer_inp = BatchNormalization(epsilon=0.001, axis=-1,momentum=0.99)(input1)\n",
        "        layer1 = Conv2D(24, (5, 5), padding=\"valid\", strides=(2, 2), activation=\"relu\")(steer_inp)\n",
        "        layer2 = Conv2D(36, (5, 5), padding=\"valid\", strides=(2, 2), activation=\"relu\")(layer1)\n",
        "        layer3 = Conv2D(48, (5, 5), padding=\"valid\", strides=(2, 2), activation=\"relu\")(layer2)\n",
        "        layer4 = Conv2D(64, (3, 3), padding=\"valid\", strides=(1, 1), activation=\"relu\")(layer3)\n",
        "        layer5 = Conv2D(64, (3, 3), padding=\"valid\", strides=(1, 1))(layer4) # add relu for old time sake\n",
        "        layer6 = Flatten()(layer5)\n",
        "        if(anomalyDetector):\n",
        "            layer7 = Activation('tanh')(layer6)\n",
        "            prediction = RBFLayer(10,0.5)(layer7)\n",
        "            model=Model(inputs=input1, outputs=prediction)\n",
        "            model.compile(loss=RBF_Soft_Loss,optimizer=keras.optimizers.Adam(),metrics=[DistanceMetric])\n",
        "        else:\n",
        "            layer6 = Activation('relu')(layer6) # remove me for old time sake\n",
        "            layer7 = Dense(1164, activation='relu')(layer6)\n",
        "            layer8 = Dense(100, activation='relu')(layer7)\n",
        "            layer9 = Dense(50, activation='relu')(layer8)\n",
        "            layer10 = Dense(10, activation='relu')(layer9)\n",
        "            prediction = Dense(10, name='predictions',activation=\"softmax\")(layer10)\n",
        "            model=Model(inputs=input1, outputs=prediction)\n",
        "            model.compile(loss='categorical_crossentropy',optimizer=keras.optimizers.Adam(),metrics=['accuracy'])\n",
        "        self.model = model\n",
        "\n",
        "    def predict(self,X):\n",
        "        predictions = self.model.predict(X)\n",
        "        if (self.isAnomalyDetector):\n",
        "            lam = RBF_LAMBDA\n",
        "            Ok = np.exp(-1*predictions)\n",
        "            top = Ok*(1+np.exp(lam)*Ok)\n",
        "            bottom = np.prod(1+np.exp(lam)*Ok,axis=1)\n",
        "            predictions = np.divide(top.T,bottom).T\n",
        "        return predictions\n",
        "\n",
        "    def getInputSize(self):\n",
        "        return self.input_size\n",
        "\n",
        "    def getNumberClasses(self):\n",
        "        return self.num_classes\n",
        "\n",
        "    def train(self,train_data_generator,validation_data_generator,saveTo,epochs=10,class_weight=None):\n",
        "\n",
        "        if (self.isAnomalyDetector):\n",
        "            checkpoint = ModelCheckpoint(saveTo, monitor='DistanceMetric', verbose=1, save_best_only=True, save_weights_only=False, mode='max', period=1)\n",
        "        else:\n",
        "            checkpoint = ModelCheckpoint(saveTo, monitor='val_acc', verbose=1, save_best_only=True, save_weights_only=False, mode='auto', period=1)\n",
        "        self.model.fit_generator(\n",
        "            train_data_generator,\n",
        "            steps_per_epoch = math.ceil(train_data_generator.samples/train_data_generator.batch_size),\n",
        "            epochs = epochs,\n",
        "            validation_data = validation_data_generator,\n",
        "            validation_steps = math.ceil(validation_data_generator.samples/validation_data_generator.batch_size),\n",
        "            callbacks = [checkpoint],\n",
        "            class_weight=class_weight)\n",
        "\n",
        "    def train_data(self,X,Y,saveTo,epochs=10,class_weight=None):\n",
        "        if (self.isAnomalyDetector):\n",
        "            checkpoint = ModelCheckpoint(saveTo, monitor='DistanceMetric', verbose=1, save_best_only=True, save_weights_only=False, mode='max', period=1)\n",
        "        else:\n",
        "            checkpoint = ModelCheckpoint(saveTo, monitor='val_acc', verbose=1, save_best_only=True, save_weights_only=False, mode='auto', period=1)\n",
        "        self.model.fit(X, Y,\n",
        "                batch_size=8,\n",
        "                epochs=epochs,\n",
        "                verbose=1,\n",
        "                callbacks=[checkpoint],\n",
        "                shuffle=True,\n",
        "                class_weight=class_weight)\n",
        "\n",
        "    def load(self,weights):\n",
        "        if (self.isAnomalyDetector):\n",
        "            self.model = load_model(weights, custom_objects={'RBFLayer': RBFLayer,'DistanceMetric':DistanceMetric,'RBF_Soft_Loss':RBF_Soft_Loss})\n",
        "        else:\n",
        "            self.model = load_model(weights)\n",
        "\n",
        "    def evaluate(self,X,Y):\n",
        "        predictions = self.predict(X)\n",
        "        accuracy = np.sum(np.argmax(predictions,axis=1) == np.argmax(Y, axis=1)) / len(Y)\n",
        "        print('The accuracy of the model: ', accuracy)\n",
        "        mse = mean_squared_error(np.argmax(Y, axis=1),np.argmax(predictions,axis=1))\n",
        "        print('MSE of model: ', mse)\n",
        "        print('Number of samples: ', len(Y))\n",
        "    \n",
        "    def evaluate_with_reject(self,X,Y):\n",
        "        predictions = self.predict_with_reject(X)\n",
        "        accuracy = np.sum(np.argmax(predictions,axis=1) == np.argmax(Y, axis=1)) / len(Y)\n",
        "        print('The accuracy of the model: ', accuracy)\n",
        "        mse = mean_squared_error(np.argmax(Y, axis=1),np.argmax(predictions,axis=1))\n",
        "        print('MSE of model: ', mse)\n",
        "        print('Number of samples: ', len(Y))\n",
        "    \n",
        "    def predict_with_reject(self,X):\n",
        "        assert self.isAnomalyDetector, \\\n",
        "            print('Cannot reject a softmax classifier')\n",
        "        predictions = self.model.predict(X)\n",
        "        lam = RBF_LAMBDA\n",
        "        Ok = np.exp(-1*predictions)\n",
        "        bottom = np.prod(1+np.exp(lam)*Ok,axis=1)\n",
        "        reject = 1.0/bottom\n",
        "        top = Ok*(1+np.exp(lam)*Ok)\n",
        "        predictions = np.divide(top.T,bottom).T\n",
        "        predictions = np.concatenate((predictions,np.expand_dims(reject,axis=1)),axis=1)\n",
        "        return predictions\n",
        "    \n",
        "    def reject(self,X):\n",
        "        assert self.isAnomalyDetector, \\\n",
        "            print('Cannot reject a softmax classifier')\n",
        "        predictions = self.model.predict(X)\n",
        "        lam = RBF_LAMBDA\n",
        "        Ok = np.exp(-1*predictions)\n",
        "        bottom = np.prod(1+np.exp(lam)*Ok,axis=1)\n",
        "        return 1.0/bottom\n",
        "\n"
      ],
      "execution_count": 0,
      "outputs": []
    },
    {
      "cell_type": "markdown",
      "metadata": {
        "id": "tl98cucABaKf",
        "colab_type": "text"
      },
      "source": [
        "## Load the partitioned data into training, validation, and create physical attack"
      ]
    },
    {
      "cell_type": "code",
      "metadata": {
        "id": "bWMdixP7oOaG",
        "colab_type": "code",
        "outputId": "30761ce3-1137-4d9f-8cb0-9c6442f2ceff",
        "colab": {
          "base_uri": "https://localhost:8080/",
          "height": 115
        }
      },
      "source": [
        "train_data_generator = loadData(dataType='train')\n",
        "validation_data_generator = loadData(dataType='val')\n",
        "test_data_generator = loadData(dataType='test')\n",
        "x_test,y_test = test_data_generator.next()\n",
        "print('Number of test data',y_test.shape[0])\n",
        "xadv,yadv,y_true,x_clean = PhysicalAttackLanes()\n",
        "print('Number of attacks',yadv.shape[0])"
      ],
      "execution_count": 0,
      "outputs": [
        {
          "output_type": "stream",
          "text": [
            "Found 4196 images belonging to 10 classes.\n",
            "Found 896 images belonging to 10 classes.\n",
            "Found 908 images belonging to 10 classes.\n",
            "Number of test data 908\n",
            "Creating physical attacks against e2e dave ii model\n",
            "Number of attacks 120\n"
          ],
          "name": "stdout"
        }
      ]
    },
    {
      "cell_type": "markdown",
      "metadata": {
        "id": "O66u-jG0Buyg",
        "colab_type": "text"
      },
      "source": [
        "## Load the DAVE II Models"
      ]
    },
    {
      "cell_type": "code",
      "metadata": {
        "id": "WZEvbYnnBzFz",
        "colab_type": "code",
        "colab": {}
      },
      "source": [
        "# SOFTMAX MODEL CLEAN\n",
        "softmax_model = DaveIIModel()\n",
        "softmax_model.load(weights=os.path.join(MODEL_WEIGHT_LOC,'softmax_model.h5'))\n",
        "#K.set_value(softmax_model.model.optimizer.lr,0.0001)\n",
        "#softmax_model.train(train_data_generator,validation_data_generator,saveTo=os.path.join(MODEL_WEIGHT_LOC,'softmax_model.h5'),epochs=100)\n",
        "print('Loaded softmax clean model...')\n",
        "\n",
        "# ANOMALY DETECTOR CLEAN\n",
        "rbf_model = DaveIIModel(anomalyDetector=True)\n",
        "rbf_model.load(weights=os.path.join(MODEL_WEIGHT_LOC,'rbf_model.h5'))\n",
        "#K.set_value(rbf_model.model.optimizer.lr,0.0001)\n",
        "#rbf_model.train(train_data_generator,validation_data_generator,saveTo=os.path.join(MODEL_WEIGHT_LOC,'rbf_model.h5'),epochs=100)\n",
        "print('loaded anomaly clean model...')"
      ],
      "execution_count": 0,
      "outputs": []
    },
    {
      "cell_type": "markdown",
      "metadata": {
        "id": "AjojTDNKC4g9",
        "colab_type": "text"
      },
      "source": [
        "## Explore the effects of changing the opacity of the attack"
      ]
    },
    {
      "cell_type": "code",
      "metadata": {
        "id": "AKzxkxWTqYJd",
        "colab_type": "code",
        "outputId": "d622a46c-ca64-4960-ef84-ae0c7bf04775",
        "colab": {
          "base_uri": "https://localhost:8080/",
          "height": 1000
        }
      },
      "source": [
        "model = rbf_model\n",
        "alphas = np.linspace(0,1,50)\n",
        "maxConfidence = np.zeros((6,len(alphas),20))\n",
        "maxConfidence.fill(-1)\n",
        "i = 0\n",
        "classes = [0,1,2,7,8,9]\n",
        "for alpha in alphas:\n",
        "    xadv,y_adv,y_label,x_clean = PhysicalAttackLanes(alpha)\n",
        "    prediction_rejection = model.reject(xadv)\n",
        "    for j in range(len(classes)):\n",
        "        idx = np.argmax(y_label,axis=1)==classes[j]\n",
        "        maxConfidence[j,i,:] = prediction_rejection[idx]\n",
        "    i += 1\n",
        "    print('Progress',i,'/',len(alphas))\n",
        "\n",
        "#plt.rcParams['text.uselatex'] = True\n",
        "plt.title(\"Effects of Increasing the Opacity of the Anomaly\",fontsize=16,pad=20)\n",
        "plt.xlabel(r'$\\alpha $',fontsize=14)\n",
        "plt.ylabel(\"Average Probability of Rejection Class\",fontsize=14)\n",
        "for j in range(len(classes)):\n",
        "    mu = np.mean(maxConfidence[j],axis=1)\n",
        "    std = np.std(maxConfidence[j],axis=1)\n",
        "    plt.errorbar(alphas,mu,label=str(classes[j]),yerr=std,elinewidth=0.5,errorevery=3)\n",
        "\n",
        "plt.tick_params(axis='both',labelsize=12)\n",
        "plt.legend(title='Ground Truth',loc='lower right',prop={'size': 12})\n",
        "plt.savefig('/content/Effects_Of_Modifying_Alpha.eps', format='eps', dpi=1000,bbox_inches='tight')\n",
        "plt.show()"
      ],
      "execution_count": 0,
      "outputs": [
        {
          "output_type": "stream",
          "text": [
            "Creating physical attacks against e2e dave ii model\n",
            "Progress 1 / 50\n",
            "Creating physical attacks against e2e dave ii model\n",
            "Progress 2 / 50\n",
            "Creating physical attacks against e2e dave ii model\n",
            "Progress 3 / 50\n",
            "Creating physical attacks against e2e dave ii model\n",
            "Progress 4 / 50\n",
            "Creating physical attacks against e2e dave ii model\n",
            "Progress 5 / 50\n",
            "Creating physical attacks against e2e dave ii model\n",
            "Progress 6 / 50\n",
            "Creating physical attacks against e2e dave ii model\n",
            "Progress 7 / 50\n",
            "Creating physical attacks against e2e dave ii model\n",
            "Progress 8 / 50\n",
            "Creating physical attacks against e2e dave ii model\n",
            "Progress 9 / 50\n",
            "Creating physical attacks against e2e dave ii model\n",
            "Progress 10 / 50\n",
            "Creating physical attacks against e2e dave ii model\n",
            "Progress 11 / 50\n",
            "Creating physical attacks against e2e dave ii model\n",
            "Progress 12 / 50\n",
            "Creating physical attacks against e2e dave ii model\n",
            "Progress 13 / 50\n",
            "Creating physical attacks against e2e dave ii model\n",
            "Progress 14 / 50\n",
            "Creating physical attacks against e2e dave ii model\n",
            "Progress 15 / 50\n",
            "Creating physical attacks against e2e dave ii model\n",
            "Progress 16 / 50\n",
            "Creating physical attacks against e2e dave ii model\n",
            "Progress 17 / 50\n",
            "Creating physical attacks against e2e dave ii model\n",
            "Progress 18 / 50\n",
            "Creating physical attacks against e2e dave ii model\n",
            "Progress 19 / 50\n",
            "Creating physical attacks against e2e dave ii model\n",
            "Progress 20 / 50\n",
            "Creating physical attacks against e2e dave ii model\n",
            "Progress 21 / 50\n",
            "Creating physical attacks against e2e dave ii model\n",
            "Progress 22 / 50\n",
            "Creating physical attacks against e2e dave ii model\n",
            "Progress 23 / 50\n",
            "Creating physical attacks against e2e dave ii model\n",
            "Progress 24 / 50\n",
            "Creating physical attacks against e2e dave ii model\n",
            "Progress 25 / 50\n",
            "Creating physical attacks against e2e dave ii model\n",
            "Progress 26 / 50\n",
            "Creating physical attacks against e2e dave ii model\n",
            "Progress 27 / 50\n",
            "Creating physical attacks against e2e dave ii model\n",
            "Progress 28 / 50\n",
            "Creating physical attacks against e2e dave ii model\n",
            "Progress 29 / 50\n",
            "Creating physical attacks against e2e dave ii model\n",
            "Progress 30 / 50\n",
            "Creating physical attacks against e2e dave ii model\n",
            "Progress 31 / 50\n",
            "Creating physical attacks against e2e dave ii model\n",
            "Progress 32 / 50\n",
            "Creating physical attacks against e2e dave ii model\n",
            "Progress 33 / 50\n",
            "Creating physical attacks against e2e dave ii model\n",
            "Progress 34 / 50\n",
            "Creating physical attacks against e2e dave ii model\n",
            "Progress 35 / 50\n",
            "Creating physical attacks against e2e dave ii model\n",
            "Progress 36 / 50\n",
            "Creating physical attacks against e2e dave ii model\n",
            "Progress 37 / 50\n",
            "Creating physical attacks against e2e dave ii model\n",
            "Progress 38 / 50\n",
            "Creating physical attacks against e2e dave ii model\n",
            "Progress 39 / 50\n",
            "Creating physical attacks against e2e dave ii model\n",
            "Progress 40 / 50\n",
            "Creating physical attacks against e2e dave ii model\n",
            "Progress 41 / 50\n",
            "Creating physical attacks against e2e dave ii model\n",
            "Progress 42 / 50\n",
            "Creating physical attacks against e2e dave ii model\n",
            "Progress 43 / 50\n",
            "Creating physical attacks against e2e dave ii model\n",
            "Progress 44 / 50\n",
            "Creating physical attacks against e2e dave ii model\n",
            "Progress 45 / 50\n",
            "Creating physical attacks against e2e dave ii model\n",
            "Progress 46 / 50\n",
            "Creating physical attacks against e2e dave ii model\n",
            "Progress 47 / 50\n",
            "Creating physical attacks against e2e dave ii model\n",
            "Progress 48 / 50\n",
            "Creating physical attacks against e2e dave ii model\n",
            "Progress 49 / 50\n",
            "Creating physical attacks against e2e dave ii model\n",
            "Progress 50 / 50\n"
          ],
          "name": "stdout"
        },
        {
          "output_type": "stream",
          "text": [
            "The PostScript backend does not support transparency; partially transparent artists will be rendered opaque.\n",
            "The PostScript backend does not support transparency; partially transparent artists will be rendered opaque.\n",
            "The PostScript backend does not support transparency; partially transparent artists will be rendered opaque.\n",
            "The PostScript backend does not support transparency; partially transparent artists will be rendered opaque.\n"
          ],
          "name": "stderr"
        },
        {
          "output_type": "display_data",
          "data": {
            "image/png": "[encoded data removed]",
            "text/plain": [
              "<Figure size 432x288 with 1 Axes>"
            ]
          },
          "metadata": {
            "tags": []
          }
        }
      ]
    },
    {
      "cell_type": "markdown",
      "metadata": {
        "id": "4-zfOZcPDPiU",
        "colab_type": "text"
      },
      "source": [
        "## Define show the shift in confidence on the attack images"
      ]
    },
    {
      "cell_type": "code",
      "metadata": {
        "id": "2HhcT6LTxhyr",
        "colab_type": "code",
        "outputId": "9bcd8b07-7f51-49cc-f527-1eedf3227f0a",
        "colab": {
          "base_uri": "https://localhost:8080/",
          "height": 496
        }
      },
      "source": [
        "x_test,y_test = test_data_generator.next()\n",
        "print('Number of test data',y_test.shape[0])\n",
        "xadv,yadv,y_true,x_clean = PhysicalAttackLanes()\n",
        "P1 = rbf_model.reject(x_test)\n",
        "Y1=y_test\n",
        "P2=rbf_model.reject(xadv)\n",
        "Y2=yadv\n",
        "title = 'DAVE-II RBF Probability of Rejection Class'\n",
        "showMax=False\n",
        "showRejection = True\n",
        "numGraphs = 2\n",
        "thresh = 0.05\n",
        "plt.figure()\n",
        "if showRejection:\n",
        "    confidence = P1\n",
        "elif showMax:\n",
        "    confidence = P1[np.arange(P1.shape[0]),np.argmax(P1,axis=1)]\n",
        "else:\n",
        "    confidence = P1[np.arange(P1.shape[0]),np.argmax(Y1,axis=1)]\n",
        "\n",
        "perc = np.percentile(confidence,90)\n",
        "#print('95th Percentile: ', perc)\n",
        "print(title)\n",
        "print('Clean data less than', str(thresh),': ',end='')\n",
        "print(np.sum(confidence<thresh)/len(confidence))\n",
        "#print(np.sum(np.bitwise_and(confidence<0.5,np.argmax(P1,axis=1) == np.argmax(Y1,axis=1))))\n",
        "plt.hist(confidence,bins=20,density=1,label='Clean Data',color='mediumblue', edgecolor='black', linewidth=0.7)\n",
        "if numGraphs==2:\n",
        "    if showRejection:\n",
        "        confidence = P2\n",
        "    elif showMax:\n",
        "        confidence = P2[np.arange(P2.shape[0]),np.argmax(P2,axis=1)]\n",
        "    else:\n",
        "        confidence = P2[np.arange(P2.shape[0]),np.argmax(Y2,axis=1)]\n",
        "    if (showMax or showRejection): # daveii analysis\n",
        "        label = 'OOD Data'\n",
        "    else:\n",
        "        label = 'Backdoor Data'\n",
        "    plt.hist(confidence,bins=20,density=1,label=label,color='firebrick', edgecolor='black', linewidth=0.7)\n",
        "    perc = np.percentile(confidence,90)\n",
        "    #print('95th Percentile: ', perc)\n",
        "    print('Dirty data less than', str(thresh),': ',end='')\n",
        "    print(np.sum(confidence<thresh)/len(confidence))\n",
        "    print('\\n')\n",
        "    plt.title(title,fontsize=16,pad=20)\n",
        "    plt.tick_params(axis='both',labelsize=12)\n",
        "    plt.legend(loc='best',prop={'size': 12})\n",
        "    plt.xlabel('Probability',fontsize=14)\n",
        "    plt.ylabel('Density',fontsize=14)\n",
        "    plt.savefig('/content/DaveII_RBF_Test_Confidence.eps', format='eps', dpi=1000,bbox_inches='tight')\n",
        "    title = title.replace(' ','_')\n",
        "    plt.show()\n",
        "    #plt.savefig(os.path.join('./images',title))\n",
        "    #plt.savefig(os.path.join('./AdversarialDefense/src/images',title))"
      ],
      "execution_count": 0,
      "outputs": [
        {
          "output_type": "stream",
          "text": [
            "Number of test data 908\n",
            "Creating physical attacks against e2e dave ii model\n"
          ],
          "name": "stdout"
        },
        {
          "output_type": "stream",
          "text": [
            "The PostScript backend does not support transparency; partially transparent artists will be rendered opaque.\n",
            "The PostScript backend does not support transparency; partially transparent artists will be rendered opaque.\n"
          ],
          "name": "stderr"
        },
        {
          "output_type": "stream",
          "text": [
            "DAVE-II RBF Probability of Rejection Class\n",
            "Clean data less than 0.05 : 0.0\n",
            "Dirty data less than 0.05 : 0.0\n",
            "\n",
            "\n"
          ],
          "name": "stdout"
        },
        {
          "output_type": "stream",
          "text": [
            "The PostScript backend does not support transparency; partially transparent artists will be rendered opaque.\n",
            "The PostScript backend does not support transparency; partially transparent artists will be rendered opaque.\n"
          ],
          "name": "stderr"
        },
        {
          "output_type": "display_data",
          "data": {
            "image/png": "[encoded data removed]",
            "text/plain": [
              "<Figure size 432x288 with 1 Axes>"
            ]
          },
          "metadata": {
            "tags": []
          }
        }
      ]
    },
    {
      "cell_type": "markdown",
      "metadata": {
        "id": "SBstiyhOEKi_",
        "colab_type": "text"
      },
      "source": [
        "# DAVEII Regression\n",
        "The following is utility function to load the regression data set into a numpy array that can be used by keras, tensorflow, or pytorch with custom data loaders"
      ]
    },
    {
      "cell_type": "markdown",
      "metadata": {
        "id": "7QEjymHZF6z-",
        "colab_type": "text"
      },
      "source": [
        "## A Function to read in a DAVEII Data set"
      ]
    },
    {
      "cell_type": "code",
      "metadata": {
        "id": "dtOApcz9EWIn",
        "colab_type": "code",
        "outputId": "f9411f51-4981-4e0c-eb5e-17afddd09b4e",
        "colab": {
          "base_uri": "https://localhost:8080/",
          "height": 50
        }
      },
      "source": [
        "#DataSetLoader.py\n",
        "#Authored: Matthew Burruss\n",
        "#Last Edited: 3/28/2019\n",
        "#Description: Provides functions for loading inputs and outputs from datasets contained in csv files\n",
        "import numpy as np\n",
        "import random\n",
        "import csv\n",
        "\n",
        "def load_input(pathToFile):\n",
        "    # initialize loop variables\n",
        "    inputs = []\n",
        "    Y = []\n",
        "    if not os.path.isfile(pathToFile):\n",
        "        print(\"File not found.\")\n",
        "        return\n",
        "    # read images in ProcessData.csv and append to input\n",
        "    print('Reading inputs...')\n",
        "    with open(pathToFile, 'rt') as csvfile:\n",
        "        reader = csv.reader(csvfile)\n",
        "        list = []\n",
        "        rownum = 1\n",
        "        img_num = -1\n",
        "        images_processed = 0\n",
        "        for row in reader:\n",
        "            if (images_processed == img_num):\n",
        "                break\n",
        "            if (rownum == 1):\n",
        "                img_num = int(row[0])\n",
        "                rownum = rownum + 1\n",
        "                continue\n",
        "            else:\n",
        "                list.append(row)\n",
        "            # every other row: get the images (each image is spread 13200x3 in excel)\n",
        "            if ((rownum-1) %3 == 0):\n",
        "                img = np.asarray(list,dtype=np.uint8)\n",
        "                img = np.resize(img,(66,200,3))\n",
        "                inputs.append(img)\n",
        "                list = []\n",
        "                images_processed = images_processed + 1\n",
        "            rownum = rownum + 1\n",
        "    return np.array(inputs)\n",
        "\n",
        "def load_output(pathToFile):\n",
        "    # initialize loop variables\n",
        "    Steering=[]\n",
        "    Acceleration=[]\n",
        "    if not os.path.isfile(pathToFile):\n",
        "        print(\"File not found.\")\n",
        "        return\n",
        "    # read images in ProcessData.csv and append to input\n",
        "    print('Reading outputs...')\n",
        "    with open(pathToFile, 'rt') as csvfile:\n",
        "        reader = csv.reader(csvfile)\n",
        "        rownum = 1\n",
        "        for row in reader:\n",
        "            if (rownum == 1):\n",
        "                img_num = int(row[0])\n",
        "                rownum = rownum + 1\n",
        "                continue\n",
        "            # steering duty cycles\n",
        "            if (rownum == img_num*3+4):\n",
        "                for steering in row:\n",
        "                    output = []\n",
        "                    y=(float(steering)-10.0)/(20.0-10.0)\n",
        "                    output.append(y)\n",
        "                    Steering.append(output)\n",
        "            # acc duty cycles\n",
        "            elif (rownum == img_num*3+3):\n",
        "                for acc in row:\n",
        "                    output = []\n",
        "                    acc=(float(acc)-10.0)/(20.0-10.0)\n",
        "                    output.append(acc)\n",
        "                    Acceleration.append(output)\n",
        "            rownum = rownum + 1\n",
        "    steer = np.array(Steering)\n",
        "    acc = np.array(Acceleration)\n",
        "    return np.concatenate((steer,acc),axis=1)\n",
        "\n",
        "\n",
        "X = load_input(PATH_TO_REGRESSION_CSV)\n",
        "Y = load_output(PATH_TO_REGRESSION_CSV)\n",
        "# normalize X\n",
        "X = X/255.\n",
        "\n",
        "print('X shape: ',X.shape)\n",
        "print('Y.shape: ',Y.shape)"
      ],
      "execution_count": 0,
      "outputs": [
        {
          "output_type": "stream",
          "text": [
            "Reading inputs...\n",
            "X shape:  (3000, 66, 200, 3)\n"
          ],
          "name": "stdout"
        }
      ]
    },
    {
      "cell_type": "code",
      "metadata": {
        "id": "zxBuFAwjKEw3",
        "colab_type": "code",
        "outputId": "a85bfc7b-ee3d-499d-8205-ae825249f478",
        "colab": {
          "base_uri": "https://localhost:8080/",
          "height": 162
        }
      },
      "source": [
        "plt.imshow(X[0])\n",
        "plt.show()"
      ],
      "execution_count": 0,
      "outputs": [
        {
          "output_type": "display_data",
          "data": {
            "image/png": "[encoded data removed]",
            "text/plain": [
              "<Figure size 432x288 with 1 Axes>"
            ]
          },
          "metadata": {
            "tags": []
          }
        }
      ]
    }
  ],
  "metadata": {
    "colab": {
      "name": "DeepNNCar.ipynb",
      "provenance": [],
      "collapsed_sections": [
        "4KfGX3X6EiVe",
        "F-BNQcKu_p-a",
        "OyRuDGN8Ai_G",
        "KtqWccslA0dP",
        "Ptpqj9o7__IY",
        "tl98cucABaKf"
      ]
    },
    "kernelspec": {
      "name": "python3",
      "display_name": "Python 3"
    },
    "accelerator": "GPU"
  },
  "nbformat": 4,
  "nbformat_minor": 0
}